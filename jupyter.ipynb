import numpy as np
import pandas as pd

books = pd.read_csv('Books.csv')
users = pd.read_csv('Users.csv')
ratings = pd.read_csv('Ratings.csv')

books.head()

users.head()

ratings.head()

print(books.shape)
print(users.shape)
print(ratings.shape)

books.isnull().sum()

users.isnull().sum()

ratings.isnull().sum()

books.duplicated().sum()

users.duplicated().sum()

ratings.duplicated().sum()

#### Popularity based rs

ratings_with_name = ratings.merge(books,on = 'ISBN')

ratings_with_name

num_rating_df = ratings_with_name.groupby('Book-Title').count()['Book-Rating'].reset_index()
num_rating_df

num_rating_df.rename(columns = {'Book-Rating' : 'num_ratings'} , inplace=True)
num_rating_df

avg_rating_df = ratings_with_name.groupby('Book-Title').mean()['Book-Rating'].reset_index()
avg_rating_df.rename(columns = {'Book-Rating' : 'avg_ratings'} , inplace=True)
avg_rating_df

popular_df = num_rating_df.merge(avg_rating_df , on = 'Book-Title')
popular_df

popular_df = popular_df[popular_df['num_ratings'] >= 200].sort_values('avg_ratings',ascending = False).head(100)
popular_df

popular_df = popular_df.merge(books,on='Book-Title').drop_duplicates('Book-Title')[['Book-Title','Book-Author','Image-URL-M','num_ratings','avg_ratings']]

popular_df

### Colaborative Filtering 

x = ratings_with_name.groupby('User-ID').count()['Book-Rating'] > 200
premium_users = x[x].index

filtered_rating = ratings_with_name[ratings_with_name['User-ID'].isin(premium_users)]

filtered_rating

y = filtered_rating.groupby('Book-Title').count()['Book-Rating']>=50
famous_books = y[y].index

final_ratings = filtered_rating[filtered_rating['Book-Title'].isin(famous_books)]
final_ratings

pt = final_ratings.pivot_table(index='Book-Title',columns='User-ID',values='Book-Rating')
pt.shape

pt.fillna(0,inplace=True)
pt

from sklearn.metrics.pairwise import cosine_similarity
similarity_scores = cosine_similarity(pt)
similarity_scores.shape

def recommend(book_name):
    # index fetch
    index = np.where(pt.index==book_name)[0][0]
    similar_items = sorted(list(enumerate(similarity_scores[index])),key=lambda x:x[1],reverse=True)[1:10]
    
    data = []
    for i in similar_items:
        item = []
        temp_df = books[books['Book-Title'] == pt.index[i[0]]]
        item.extend(list(temp_df.drop_duplicates('Book-Title')['Book-Title'].values))
        item.extend(list(temp_df.drop_duplicates('Book-Title')['Book-Author'].values))
        item.extend(list(temp_df.drop_duplicates('Book-Title')['Image-URL-M'].values))
        
        data.append(item)
    
    return data

import pickle
pickle.dump(popular_df,open('popular.pkl','wb'))
books.drop_duplicates('Book-Title')

pickle.dump(pt,open('pt.pkl','wb'))
pickle.dump(books,open('books.pkl','wb'))
pickle.dump(similarity_scores,open('similarity_scores.pkl','wb'))

